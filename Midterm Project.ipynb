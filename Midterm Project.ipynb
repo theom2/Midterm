{
 "cells": [
  {
   "cell_type": "markdown",
   "metadata": {},
   "source": [
    "# Midterm Lab\n",
    "Theodore Mahlum for Big Data and Analytics on November 20th, 2019 \n",
    "##### Analyzing Impeachment Investigations in the US Government"
   ]
  },
  {
   "cell_type": "markdown",
   "metadata": {},
   "source": [
    "## Abstract"
   ]
  },
  {
   "cell_type": "markdown",
   "metadata": {},
   "source": [
    "##### My Dataset"
   ]
  },
  {
   "cell_type": "markdown",
   "metadata": {},
   "source": [
    "This lab explores a dataset with information on previous impeachment trials in the US government including the date it occurred, what the result was, who was being tried, the name of the investigation and how long the investigation lasted. The dataset used is called \"russia-investigation\" and came from Five Thirty Eight.   "
   ]
  },
  {
   "cell_type": "markdown",
   "metadata": {},
   "source": [
    "The dataset used can be found here: https://github.com/fivethirtyeight/data/blob/master/russia-investigation/russia-investigation.csv"
   ]
  },
  {
   "cell_type": "markdown",
   "metadata": {},
   "source": [
    "##### My Questions"
   ]
  },
  {
   "cell_type": "markdown",
   "metadata": {},
   "source": [
    "1. How many features and observations does my dataset have?\n",
    "2. What is the mean and median investigation length for an impeachment trial?\n",
    "3. What was the longest investigation and what was its result?\n",
    "4. What was the shortest investigation and what was its result?\n",
    "5. What is the most common result of an impeachment investigation?\n",
    "6. Does there seem to be a correlation between year of the investigation and the result of the investigation (from looking at a graph)?\n",
    "7. Which president has pardoned the most individuals involved in his impeachment investigation?\n",
    "8. Which president has pardoned the fewest individuals involved in his impeachment investigation?\n",
    "9. How many individuals investigated were American? How many were not American?"
   ]
  },
  {
   "cell_type": "markdown",
   "metadata": {},
   "source": [
    "## Dataset Exploration"
   ]
  },
  {
   "cell_type": "code",
   "execution_count": 2,
   "metadata": {},
   "outputs": [],
   "source": [
    "import math as m\n",
    "import numpy as np\n",
    "import scipy as sp\n",
    "import pandas as pd\n",
    "import matplotlib as mpl\n",
    "import matplotlib.pyplot as plt\n",
    "import seaborn as sns"
   ]
  },
  {
   "cell_type": "code",
   "execution_count": 3,
   "metadata": {},
   "outputs": [],
   "source": [
    "sns.set(style=\"whitegrid\")"
   ]
  },
  {
   "cell_type": "markdown",
   "metadata": {},
   "source": [
    "After importing the libraries we will use in this lab and setting up seaborn, I want to read into our lab the dataset we are going to use. We use our Pandas library to accomplish this. "
   ]
  },
  {
   "cell_type": "code",
   "execution_count": 4,
   "metadata": {},
   "outputs": [],
   "source": [
    "df = pd.read_csv('russia-investigation.csv')"
   ]
  },
  {
   "cell_type": "markdown",
   "metadata": {},
   "source": [
    "Upon reading in our dataset, we want to look at the first 5 rows of our dataset (in addition to the headers), this helps us get an initial glimpse of what is actually in our dataset. "
   ]
  },
  {
   "cell_type": "code",
   "execution_count": 5,
   "metadata": {},
   "outputs": [
    {
     "data": {
      "text/html": [
       "<div>\n",
       "<style scoped>\n",
       "    .dataframe tbody tr th:only-of-type {\n",
       "        vertical-align: middle;\n",
       "    }\n",
       "\n",
       "    .dataframe tbody tr th {\n",
       "        vertical-align: top;\n",
       "    }\n",
       "\n",
       "    .dataframe thead th {\n",
       "        text-align: right;\n",
       "    }\n",
       "</style>\n",
       "<table border=\"1\" class=\"dataframe\">\n",
       "  <thead>\n",
       "    <tr style=\"text-align: right;\">\n",
       "      <th></th>\n",
       "      <th>investigation</th>\n",
       "      <th>investigation-start</th>\n",
       "      <th>investigation-end</th>\n",
       "      <th>investigation-days</th>\n",
       "      <th>name</th>\n",
       "      <th>indictment-days</th>\n",
       "      <th>type</th>\n",
       "      <th>cp-date</th>\n",
       "      <th>cp-days</th>\n",
       "      <th>overturned</th>\n",
       "      <th>pardoned</th>\n",
       "      <th>american</th>\n",
       "      <th>president</th>\n",
       "    </tr>\n",
       "  </thead>\n",
       "  <tbody>\n",
       "    <tr>\n",
       "      <td>189</td>\n",
       "      <td>russia</td>\n",
       "      <td>2017-05-17</td>\n",
       "      <td>NaN</td>\n",
       "      <td>659</td>\n",
       "      <td>Russian national 23</td>\n",
       "      <td>422.0</td>\n",
       "      <td>indictment</td>\n",
       "      <td>NaN</td>\n",
       "      <td>NaN</td>\n",
       "      <td>False</td>\n",
       "      <td>False</td>\n",
       "      <td>False</td>\n",
       "      <td>Donald Trump</td>\n",
       "    </tr>\n",
       "    <tr>\n",
       "      <td>190</td>\n",
       "      <td>russia</td>\n",
       "      <td>2017-05-17</td>\n",
       "      <td>NaN</td>\n",
       "      <td>659</td>\n",
       "      <td>Russian national 24</td>\n",
       "      <td>422.0</td>\n",
       "      <td>indictment</td>\n",
       "      <td>NaN</td>\n",
       "      <td>NaN</td>\n",
       "      <td>False</td>\n",
       "      <td>False</td>\n",
       "      <td>False</td>\n",
       "      <td>Donald Trump</td>\n",
       "    </tr>\n",
       "    <tr>\n",
       "      <td>191</td>\n",
       "      <td>russia</td>\n",
       "      <td>2017-05-17</td>\n",
       "      <td>NaN</td>\n",
       "      <td>659</td>\n",
       "      <td>Russian national 25</td>\n",
       "      <td>422.0</td>\n",
       "      <td>indictment</td>\n",
       "      <td>NaN</td>\n",
       "      <td>NaN</td>\n",
       "      <td>False</td>\n",
       "      <td>False</td>\n",
       "      <td>False</td>\n",
       "      <td>Donald Trump</td>\n",
       "    </tr>\n",
       "    <tr>\n",
       "      <td>192</td>\n",
       "      <td>russia</td>\n",
       "      <td>2017-05-17</td>\n",
       "      <td>NaN</td>\n",
       "      <td>659</td>\n",
       "      <td>Michael Cohen</td>\n",
       "      <td>561.0</td>\n",
       "      <td>guilty-plea</td>\n",
       "      <td>2018-11-29</td>\n",
       "      <td>561.0</td>\n",
       "      <td>False</td>\n",
       "      <td>False</td>\n",
       "      <td>True</td>\n",
       "      <td>Donald Trump</td>\n",
       "    </tr>\n",
       "    <tr>\n",
       "      <td>193</td>\n",
       "      <td>russia</td>\n",
       "      <td>2017-05-17</td>\n",
       "      <td>NaN</td>\n",
       "      <td>659</td>\n",
       "      <td>Roger Stone</td>\n",
       "      <td>618.0</td>\n",
       "      <td>indictment</td>\n",
       "      <td>NaN</td>\n",
       "      <td>NaN</td>\n",
       "      <td>False</td>\n",
       "      <td>False</td>\n",
       "      <td>True</td>\n",
       "      <td>Donald Trump</td>\n",
       "    </tr>\n",
       "  </tbody>\n",
       "</table>\n",
       "</div>"
      ],
      "text/plain": [
       "    investigation investigation-start investigation-end  investigation-days  \\\n",
       "189        russia          2017-05-17               NaN                 659   \n",
       "190        russia          2017-05-17               NaN                 659   \n",
       "191        russia          2017-05-17               NaN                 659   \n",
       "192        russia          2017-05-17               NaN                 659   \n",
       "193        russia          2017-05-17               NaN                 659   \n",
       "\n",
       "                    name  indictment-days          type     cp-date  cp-days  \\\n",
       "189  Russian national 23             422.0   indictment         NaN      NaN   \n",
       "190  Russian national 24             422.0   indictment         NaN      NaN   \n",
       "191  Russian national 25             422.0   indictment         NaN      NaN   \n",
       "192        Michael Cohen             561.0  guilty-plea  2018-11-29    561.0   \n",
       "193          Roger Stone             618.0   indictment         NaN      NaN   \n",
       "\n",
       "     overturned  pardoned  american     president  \n",
       "189       False     False     False  Donald Trump  \n",
       "190       False     False     False  Donald Trump  \n",
       "191       False     False     False  Donald Trump  \n",
       "192       False     False      True  Donald Trump  \n",
       "193       False     False      True  Donald Trump  "
      ]
     },
     "execution_count": 5,
     "metadata": {},
     "output_type": "execute_result"
    }
   ],
   "source": [
    "df.tail()"
   ]
  },
  {
   "cell_type": "markdown",
   "metadata": {},
   "source": [
    "Looking at this dataset, we want to separate years from the dates to make it easier for us to analyze the data. "
   ]
  },
  {
   "cell_type": "code",
   "execution_count": 6,
   "metadata": {},
   "outputs": [],
   "source": [
    "df['year'] = pd.DatetimeIndex(df['investigation-start']).year"
   ]
  },
  {
   "cell_type": "markdown",
   "metadata": {},
   "source": [
    "First, Lets look at a count plot of the number of indictments per year. "
   ]
  },
  {
   "cell_type": "code",
   "execution_count": 59,
   "metadata": {},
   "outputs": [
    {
     "data": {
      "text/plain": [
       "<matplotlib.axes._subplots.AxesSubplot at 0x1a1c1e4890>"
      ]
     },
     "execution_count": 59,
     "metadata": {},
     "output_type": "execute_result"
    },
    {
     "data": {
      "image/png": "[encoded data removed]",
      "text/plain": [
       "<Figure size 432x288 with 1 Axes>"
      ]
     },
     "metadata": {},
     "output_type": "display_data"
    }
   ],
   "source": [
    "sns.countplot(x=\"year\", data = df)"
   ]
  },
  {
   "cell_type": "markdown",
   "metadata": {},
   "source": [
    "From the count plot, we can see that the majority of indictments happened in distinct years with few constants. We can also see that the most indictments occurred in the 1970s and in 2017. "
   ]
  },
  {
   "cell_type": "markdown",
   "metadata": {},
   "source": [
    "Our next step is to look into what types of data we have, in addition to taking a closer look at what our dataset's features are and how many observations they have. "
   ]
  },
  {
   "cell_type": "code",
   "execution_count": 8,
   "metadata": {},
   "outputs": [
    {
     "name": "stdout",
     "output_type": "stream",
     "text": [
      "<class 'pandas.core.frame.DataFrame'>\n",
      "RangeIndex: 194 entries, 0 to 193\n",
      "Data columns (total 14 columns):\n",
      "investigation          194 non-null object\n",
      "investigation-start    194 non-null object\n",
      "investigation-end      160 non-null object\n",
      "investigation-days     194 non-null int64\n",
      "name                   181 non-null object\n",
      "indictment-days        181 non-null float64\n",
      "type                   181 non-null object\n",
      "cp-date                126 non-null object\n",
      "cp-days                123 non-null float64\n",
      "overturned             194 non-null bool\n",
      "pardoned               194 non-null bool\n",
      "american               194 non-null bool\n",
      "president              194 non-null object\n",
      "year                   194 non-null int64\n",
      "dtypes: bool(3), float64(2), int64(2), object(7)\n",
      "memory usage: 17.4+ KB\n"
     ]
    }
   ],
   "source": [
    "df.info()"
   ]
  },
  {
   "cell_type": "markdown",
   "metadata": {},
   "source": [
    "Next, I wanted to find out all of the unique types of incidents in an impeachment investivation. "
   ]
  },
  {
   "cell_type": "code",
   "execution_count": 9,
   "metadata": {},
   "outputs": [
    {
     "data": {
      "text/plain": [
       "array(['conviction', 'guilty-plea', 'indictment', nan], dtype=object)"
      ]
     },
     "execution_count": 9,
     "metadata": {},
     "output_type": "execute_result"
    }
   ],
   "source": [
    "df[\"type\"].unique()"
   ]
  },
  {
   "cell_type": "markdown",
   "metadata": {},
   "source": [
    "I then wanted to find out all of the unique presidents who have faced impeachment investigations. "
   ]
  },
  {
   "cell_type": "code",
   "execution_count": 10,
   "metadata": {},
   "outputs": [
    {
     "name": "stdout",
     "output_type": "stream",
     "text": [
      "['Richard Nixon' 'Jimmy Carter' 'Ronald Reagan' 'George H.W. Bush'\n",
      " 'Bill Clinton' 'George W. Bush' 'Donald Trump']\n"
     ]
    }
   ],
   "source": [
    "presidents = df[\"president\"].unique()\n",
    "print(presidents)"
   ]
  },
  {
   "cell_type": "markdown",
   "metadata": {},
   "source": [
    "In the data-exploration section of this lab, I have found that this dataset has 13 features and 194 observations. This dataset consists of primarily object-type data with some floats, integers, and booleans. Acknowledging our objectivese for this lab, I know I will primarily be interested in the features: \"investigation-days\", \"type\", \"overturned\", \"pardoned\", \"american\", \"president\".  For the purpose of stastical analysis, \"investigation-days\" is a column of integer data; \"type\" and \"president\" are columns of object-type data; \"pardoned\", \"overturned\", and \"american\" are columns of bool type data. Additionally, \"type\" has three unique values: \"conviction\", \"guilty-plea\", and \"indictment\". There are additionally 7 unique objects for the presidents column, meaning that 7 presidents have faced impeachment trials. Given there are 181 values in the \"name\" column, we can additionally recognize that 181 people were investigated during the 7 impeachment investigations. What our data-visualization initially shows, without any data-analysis, is that there were potentially multiple investigations during each president's term given there are more datapoints on the visualization than there are candidates."
   ]
  },
  {
   "cell_type": "markdown",
   "metadata": {},
   "source": [
    "## Data Modeling and Analysis"
   ]
  },
  {
   "cell_type": "markdown",
   "metadata": {},
   "source": [
    "##### What is the mean and median investigation length for an impeachment trial?"
   ]
  },
  {
   "cell_type": "code",
   "execution_count": 11,
   "metadata": {},
   "outputs": [
    {
     "data": {
      "text/html": [
       "<div>\n",
       "<style scoped>\n",
       "    .dataframe tbody tr th:only-of-type {\n",
       "        vertical-align: middle;\n",
       "    }\n",
       "\n",
       "    .dataframe tbody tr th {\n",
       "        vertical-align: top;\n",
       "    }\n",
       "\n",
       "    .dataframe thead th {\n",
       "        text-align: right;\n",
       "    }\n",
       "</style>\n",
       "<table border=\"1\" class=\"dataframe\">\n",
       "  <thead>\n",
       "    <tr style=\"text-align: right;\">\n",
       "      <th></th>\n",
       "      <th>investigation-days</th>\n",
       "      <th>indictment-days</th>\n",
       "      <th>cp-days</th>\n",
       "      <th>year</th>\n",
       "    </tr>\n",
       "  </thead>\n",
       "  <tbody>\n",
       "    <tr>\n",
       "      <td>count</td>\n",
       "      <td>194.000000</td>\n",
       "      <td>181.000000</td>\n",
       "      <td>123.000000</td>\n",
       "      <td>194.000000</td>\n",
       "    </tr>\n",
       "    <tr>\n",
       "      <td>mean</td>\n",
       "      <td>1733.520619</td>\n",
       "      <td>507.176796</td>\n",
       "      <td>637.439024</td>\n",
       "      <td>1988.979381</td>\n",
       "    </tr>\n",
       "    <tr>\n",
       "      <td>std</td>\n",
       "      <td>894.842431</td>\n",
       "      <td>443.585231</td>\n",
       "      <td>509.754299</td>\n",
       "      <td>15.627450</td>\n",
       "    </tr>\n",
       "    <tr>\n",
       "      <td>min</td>\n",
       "      <td>171.000000</td>\n",
       "      <td>-316.000000</td>\n",
       "      <td>-136.000000</td>\n",
       "      <td>1973.000000</td>\n",
       "    </tr>\n",
       "    <tr>\n",
       "      <td>25%</td>\n",
       "      <td>1101.000000</td>\n",
       "      <td>275.000000</td>\n",
       "      <td>275.000000</td>\n",
       "      <td>1973.000000</td>\n",
       "    </tr>\n",
       "    <tr>\n",
       "      <td>50%</td>\n",
       "      <td>1492.000000</td>\n",
       "      <td>422.000000</td>\n",
       "      <td>545.000000</td>\n",
       "      <td>1990.000000</td>\n",
       "    </tr>\n",
       "    <tr>\n",
       "      <td>75%</td>\n",
       "      <td>2419.000000</td>\n",
       "      <td>670.000000</td>\n",
       "      <td>990.000000</td>\n",
       "      <td>1994.000000</td>\n",
       "    </tr>\n",
       "    <tr>\n",
       "      <td>max</td>\n",
       "      <td>3387.000000</td>\n",
       "      <td>2006.000000</td>\n",
       "      <td>2183.000000</td>\n",
       "      <td>2017.000000</td>\n",
       "    </tr>\n",
       "  </tbody>\n",
       "</table>\n",
       "</div>"
      ],
      "text/plain": [
       "       investigation-days  indictment-days       cp-days         year\n",
       "count          194.000000        181.000000   123.000000   194.000000\n",
       "mean          1733.520619        507.176796   637.439024  1988.979381\n",
       "std            894.842431        443.585231   509.754299    15.627450\n",
       "min            171.000000       -316.000000  -136.000000  1973.000000\n",
       "25%           1101.000000        275.000000   275.000000  1973.000000\n",
       "50%           1492.000000        422.000000   545.000000  1990.000000\n",
       "75%           2419.000000        670.000000   990.000000  1994.000000\n",
       "max           3387.000000       2006.000000  2183.000000  2017.000000"
      ]
     },
     "execution_count": 11,
     "metadata": {},
     "output_type": "execute_result"
    }
   ],
   "source": [
    "df.describe()"
   ]
  },
  {
   "cell_type": "markdown",
   "metadata": {},
   "source": [
    "Using the describe function we can see that the mean investigation length was 1733.52 days and the median investigation length was 1492 days. This tells us that the investigation-days data is skewed to the right because the median is less than the mean. We also know the longest investigation was 3387 days long and the shortest lasted only 171 days. "
   ]
  },
  {
   "cell_type": "code",
   "execution_count": 12,
   "metadata": {},
   "outputs": [
    {
     "data": {
      "image/png": "[encoded data removed]",
      "text/plain": [
       "<Figure size 432x288 with 1 Axes>"
      ]
     },
     "metadata": {},
     "output_type": "display_data"
    }
   ],
   "source": [
    "ax = sns.boxplot(x=df[\"investigation-days\"])"
   ]
  },
  {
   "cell_type": "markdown",
   "metadata": {},
   "source": [
    "#### What was the longest investigation and what was its result?"
   ]
  },
  {
   "cell_type": "markdown",
   "metadata": {},
   "source": [
    "Knowing the longest investigation was 3387 days long, we first want to find the index of this value."
   ]
  },
  {
   "cell_type": "code",
   "execution_count": 13,
   "metadata": {},
   "outputs": [
    {
     "data": {
      "text/plain": [
       "148"
      ]
     },
     "execution_count": 13,
     "metadata": {},
     "output_type": "execute_result"
    }
   ],
   "source": [
    "df[\"investigation-days\"].idxmax(axis=0)"
   ]
  },
  {
   "cell_type": "markdown",
   "metadata": {},
   "source": [
    "We then want to use this index to find out the result of the investigation."
   ]
  },
  {
   "cell_type": "code",
   "execution_count": 14,
   "metadata": {},
   "outputs": [
    {
     "data": {
      "text/plain": [
       "'guilty-plea'"
      ]
     },
     "execution_count": 14,
     "metadata": {},
     "output_type": "execute_result"
    }
   ],
   "source": [
    "df[\"type\"].at[148]"
   ]
  },
  {
   "cell_type": "markdown",
   "metadata": {},
   "source": [
    "We now know that the longest investigation resulted in a guilty-plea."
   ]
  },
  {
   "cell_type": "markdown",
   "metadata": {},
   "source": [
    "While we know what the result of the investigation is, we now want to find whether the individual in question got their ruling overturned or pardoned, and whether they are American."
   ]
  },
  {
   "cell_type": "code",
   "execution_count": 15,
   "metadata": {},
   "outputs": [
    {
     "data": {
      "text/plain": [
       "False"
      ]
     },
     "execution_count": 15,
     "metadata": {},
     "output_type": "execute_result"
    }
   ],
   "source": [
    "df[\"overturned\"].at[148] "
   ]
  },
  {
   "cell_type": "code",
   "execution_count": 16,
   "metadata": {},
   "outputs": [
    {
     "data": {
      "text/plain": [
       "True"
      ]
     },
     "execution_count": 16,
     "metadata": {},
     "output_type": "execute_result"
    }
   ],
   "source": [
    "df[\"pardoned\"].at[148]"
   ]
  },
  {
   "cell_type": "markdown",
   "metadata": {},
   "source": [
    "We now know that the subject of the longest investigation was pardoned."
   ]
  },
  {
   "cell_type": "code",
   "execution_count": 17,
   "metadata": {},
   "outputs": [
    {
     "data": {
      "text/plain": [
       "True"
      ]
     },
     "execution_count": 17,
     "metadata": {},
     "output_type": "execute_result"
    }
   ],
   "source": [
    "df[\"american\"].at[148]"
   ]
  },
  {
   "cell_type": "markdown",
   "metadata": {},
   "source": [
    "The American subject was investigated for 3387 days, the result of which was a guilty-plea. They were later pardoned. "
   ]
  },
  {
   "cell_type": "markdown",
   "metadata": {},
   "source": [
    "#### What was the shortest investigation and what was its result?"
   ]
  },
  {
   "cell_type": "markdown",
   "metadata": {},
   "source": [
    "Knowing the shortest investigation was 171 days long, we first want to find the index of this value."
   ]
  },
  {
   "cell_type": "code",
   "execution_count": 18,
   "metadata": {},
   "outputs": [
    {
     "data": {
      "text/plain": [
       "75"
      ]
     },
     "execution_count": 18,
     "metadata": {},
     "output_type": "execute_result"
    }
   ],
   "source": [
    "df[\"investigation-days\"].idxmin(axis=0)"
   ]
  },
  {
   "cell_type": "markdown",
   "metadata": {},
   "source": [
    "We then want to use this index to find out the result of the investigation."
   ]
  },
  {
   "cell_type": "code",
   "execution_count": 19,
   "metadata": {},
   "outputs": [
    {
     "data": {
      "text/plain": [
       "nan"
      ]
     },
     "execution_count": 19,
     "metadata": {},
     "output_type": "execute_result"
    }
   ],
   "source": [
    "df[\"type\"].at[75]"
   ]
  },
  {
   "cell_type": "markdown",
   "metadata": {},
   "source": [
    "We now know that the shortest investigation resulted in neither a guilty-plea, an indictment, nor a conviction.\n",
    "While we know what the result of the investigation is, we now want to find whether the individual in question was American."
   ]
  },
  {
   "cell_type": "code",
   "execution_count": 20,
   "metadata": {},
   "outputs": [
    {
     "data": {
      "text/plain": [
       "True"
      ]
     },
     "execution_count": 20,
     "metadata": {},
     "output_type": "execute_result"
    }
   ],
   "source": [
    "df[\"american\"].at[75]"
   ]
  },
  {
   "cell_type": "markdown",
   "metadata": {},
   "source": [
    "Our subject was investigated for only 171 days before their investigation was ended without a result. They are American."
   ]
  },
  {
   "cell_type": "markdown",
   "metadata": {},
   "source": [
    "#### What is the most common result of an impeachment investigation?"
   ]
  },
  {
   "cell_type": "markdown",
   "metadata": {},
   "source": [
    "First we want to see how many times the result is a conviction."
   ]
  },
  {
   "cell_type": "code",
   "execution_count": 21,
   "metadata": {},
   "outputs": [
    {
     "data": {
      "text/plain": [
       "39"
      ]
     },
     "execution_count": 21,
     "metadata": {},
     "output_type": "execute_result"
    }
   ],
   "source": [
    "(df[\"type\"]==\"conviction\").sum()"
   ]
  },
  {
   "cell_type": "markdown",
   "metadata": {},
   "source": [
    "We find that there have been 39 convictions.\n",
    "\n",
    "We then want to find how many guilty pleas there have been."
   ]
  },
  {
   "cell_type": "code",
   "execution_count": 22,
   "metadata": {},
   "outputs": [
    {
     "data": {
      "text/plain": [
       "86"
      ]
     },
     "execution_count": 22,
     "metadata": {},
     "output_type": "execute_result"
    }
   ],
   "source": [
    "(df[\"type\"]==\"guilty-plea\").sum()"
   ]
  },
  {
   "cell_type": "markdown",
   "metadata": {},
   "source": [
    "We find that there have been 86 guilty-pleas. \n",
    "\n",
    "Lastly, we want to find out how many indictments have occurred."
   ]
  },
  {
   "cell_type": "code",
   "execution_count": 23,
   "metadata": {},
   "outputs": [
    {
     "data": {
      "text/plain": [
       "56"
      ]
     },
     "execution_count": 23,
     "metadata": {},
     "output_type": "execute_result"
    }
   ],
   "source": [
    "(df[\"type\"]==\"indictment\").sum()"
   ]
  },
  {
   "cell_type": "markdown",
   "metadata": {},
   "source": [
    "We find that 56 indictments have occured. \n",
    "\n",
    "Because of this, we know that a guilty plea is the most common result, with 86 impeachment investigations resulting in a guilty plea. "
   ]
  },
  {
   "cell_type": "markdown",
   "metadata": {},
   "source": [
    "#### Does there seem to be a correlation between length of the investigation and length of the conviction proceedings?"
   ]
  },
  {
   "cell_type": "markdown",
   "metadata": {},
   "source": [
    "If we look at a scatter plot between investigation days and conviction proceedings, we should be able to see if there are clear signs of causation or correlation.  "
   ]
  },
  {
   "cell_type": "code",
   "execution_count": 24,
   "metadata": {},
   "outputs": [
    {
     "data": {
      "text/plain": [
       "<seaborn.axisgrid.FacetGrid at 0x1a1b635d50>"
      ]
     },
     "execution_count": 24,
     "metadata": {},
     "output_type": "execute_result"
    },
    {
     "data": {
      "image/png": "[encoded data removed]",
      "text/plain": [
       "<Figure size 548.725x360 with 1 Axes>"
      ]
     },
     "metadata": {},
     "output_type": "display_data"
    }
   ],
   "source": [
    "sns.relplot(x=\"investigation-days\",y=\"cp-days\",hue=\"investigation\",data=df, kind=\"scatter\")"
   ]
  },
  {
   "cell_type": "markdown",
   "metadata": {},
   "source": [
    "There seems to be a positive correlation between the length of the investigation and the length of the conviction proceedings, allowing us to predict that shorter investigations will have shorter conviction proceedings. "
   ]
  },
  {
   "cell_type": "markdown",
   "metadata": {},
   "source": [
    "In order to confirm at least correlation, lets look at a linear line of regression. "
   ]
  },
  {
   "cell_type": "code",
   "execution_count": 61,
   "metadata": {},
   "outputs": [
    {
     "data": {
      "text/plain": [
       "<seaborn.axisgrid.FacetGrid at 0x1a1c6cbcd0>"
      ]
     },
     "execution_count": 61,
     "metadata": {},
     "output_type": "execute_result"
    },
    {
     "data": {
      "image/png": "[encoded data removed]",
      "text/plain": [
       "<Figure size 360x360 with 1 Axes>"
      ]
     },
     "metadata": {},
     "output_type": "display_data"
    }
   ],
   "source": [
    "sns.lmplot(x=\"investigation-days\",y=\"cp-days\",data=df) "
   ]
  },
  {
   "cell_type": "markdown",
   "metadata": {},
   "source": [
    "From this we can tell that there is a positive correlation between the length of the investigation and the length of conviction proceedings. "
   ]
  },
  {
   "cell_type": "markdown",
   "metadata": {},
   "source": [
    "#### Which president has pardoned the most individuals involved in his impeachment investigation? Which has pardoned the least?"
   ]
  },
  {
   "cell_type": "markdown",
   "metadata": {},
   "source": [
    "If we make a table of the number of boolean trues and falses for those pardoned, we can see which president was responsible for the most pardons."
   ]
  },
  {
   "cell_type": "code",
   "execution_count": 33,
   "metadata": {},
   "outputs": [
    {
     "data": {
      "text/html": [
       "<div>\n",
       "<style scoped>\n",
       "    .dataframe tbody tr th:only-of-type {\n",
       "        vertical-align: middle;\n",
       "    }\n",
       "\n",
       "    .dataframe tbody tr th {\n",
       "        vertical-align: top;\n",
       "    }\n",
       "\n",
       "    .dataframe thead th {\n",
       "        text-align: right;\n",
       "    }\n",
       "</style>\n",
       "<table border=\"1\" class=\"dataframe\">\n",
       "  <thead>\n",
       "    <tr style=\"text-align: right;\">\n",
       "      <th>president</th>\n",
       "      <th>Bill Clinton</th>\n",
       "      <th>Donald Trump</th>\n",
       "      <th>George H.W. Bush</th>\n",
       "      <th>George W. Bush</th>\n",
       "      <th>Jimmy Carter</th>\n",
       "      <th>Richard Nixon</th>\n",
       "      <th>Ronald Reagan</th>\n",
       "    </tr>\n",
       "    <tr>\n",
       "      <th>pardoned</th>\n",
       "      <th></th>\n",
       "      <th></th>\n",
       "      <th></th>\n",
       "      <th></th>\n",
       "      <th></th>\n",
       "      <th></th>\n",
       "      <th></th>\n",
       "    </tr>\n",
       "  </thead>\n",
       "  <tbody>\n",
       "    <tr>\n",
       "      <td>False</td>\n",
       "      <td>32</td>\n",
       "      <td>34</td>\n",
       "      <td>19</td>\n",
       "      <td>0</td>\n",
       "      <td>2</td>\n",
       "      <td>67</td>\n",
       "      <td>14</td>\n",
       "    </tr>\n",
       "    <tr>\n",
       "      <td>True</td>\n",
       "      <td>13</td>\n",
       "      <td>0</td>\n",
       "      <td>1</td>\n",
       "      <td>1</td>\n",
       "      <td>0</td>\n",
       "      <td>5</td>\n",
       "      <td>6</td>\n",
       "    </tr>\n",
       "  </tbody>\n",
       "</table>\n",
       "</div>"
      ],
      "text/plain": [
       "president  Bill Clinton  Donald Trump  George H.W. Bush  George W. Bush  \\\n",
       "pardoned                                                                  \n",
       "False                32            34                19               0   \n",
       "True                 13             0                 1               1   \n",
       "\n",
       "president  Jimmy Carter  Richard Nixon  Ronald Reagan  \n",
       "pardoned                                               \n",
       "False                 2             67             14  \n",
       "True                  0              5              6  "
      ]
     },
     "execution_count": 33,
     "metadata": {},
     "output_type": "execute_result"
    }
   ],
   "source": [
    "dfn_pardon = pd.crosstab(df[\"pardoned\"],df[\"president\"])\n",
    "dfn_pardon"
   ]
  },
  {
   "cell_type": "markdown",
   "metadata": {},
   "source": [
    "From this table we can tell that while Richard Nixon was responsible the most people investigated as a result of his impeachment trial, Bill Clinton pardoned the most, having pardoned 13 of the 32 people investigated. He pardoned 40.625% of the individuals associated with his impeachment trial. However, George Bush pardoned 100% of those investigated in his impeachment trial. "
   ]
  },
  {
   "cell_type": "markdown",
   "metadata": {},
   "source": [
    "Alternatively, Donald Trump and Jimmy Carter have not pardoned anyone associated with their impeachment trial. Given Donald Trump's presidency has yet to end, this could change. "
   ]
  },
  {
   "cell_type": "markdown",
   "metadata": {},
   "source": [
    "#### How many individuals investigated were American? How many were not American?"
   ]
  },
  {
   "cell_type": "markdown",
   "metadata": {},
   "source": [
    "Lets first look at the total number of americans investigated, this way we can subtract this number from the total number of people investigated to get the number of those investigated who were not American. "
   ]
  },
  {
   "cell_type": "code",
   "execution_count": 144,
   "metadata": {},
   "outputs": [
    {
     "data": {
      "text/plain": [
       "167"
      ]
     },
     "execution_count": 144,
     "metadata": {},
     "output_type": "execute_result"
    }
   ],
   "source": [
    "df[\"american\"].sum()"
   ]
  },
  {
   "cell_type": "markdown",
   "metadata": {},
   "source": [
    "167 of the 194 individuals investigated were American, meaning that 27 individuals investigated were not American."
   ]
  },
  {
   "cell_type": "markdown",
   "metadata": {},
   "source": [
    "Let's take a closer look at what presidents caused non-americans to be investigated."
   ]
  },
  {
   "cell_type": "code",
   "execution_count": 53,
   "metadata": {},
   "outputs": [
    {
     "data": {
      "text/html": [
       "<div>\n",
       "<style scoped>\n",
       "    .dataframe tbody tr th:only-of-type {\n",
       "        vertical-align: middle;\n",
       "    }\n",
       "\n",
       "    .dataframe tbody tr th {\n",
       "        vertical-align: top;\n",
       "    }\n",
       "\n",
       "    .dataframe thead th {\n",
       "        text-align: right;\n",
       "    }\n",
       "</style>\n",
       "<table border=\"1\" class=\"dataframe\">\n",
       "  <thead>\n",
       "    <tr style=\"text-align: right;\">\n",
       "      <th>president</th>\n",
       "      <th>Bill Clinton</th>\n",
       "      <th>Donald Trump</th>\n",
       "      <th>George H.W. Bush</th>\n",
       "      <th>George W. Bush</th>\n",
       "      <th>Jimmy Carter</th>\n",
       "      <th>Richard Nixon</th>\n",
       "      <th>Ronald Reagan</th>\n",
       "    </tr>\n",
       "    <tr>\n",
       "      <th>american</th>\n",
       "      <th></th>\n",
       "      <th></th>\n",
       "      <th></th>\n",
       "      <th></th>\n",
       "      <th></th>\n",
       "      <th></th>\n",
       "      <th></th>\n",
       "    </tr>\n",
       "  </thead>\n",
       "  <tbody>\n",
       "    <tr>\n",
       "      <td>False</td>\n",
       "      <td>1</td>\n",
       "      <td>26</td>\n",
       "      <td>0</td>\n",
       "      <td>0</td>\n",
       "      <td>0</td>\n",
       "      <td>0</td>\n",
       "      <td>0</td>\n",
       "    </tr>\n",
       "    <tr>\n",
       "      <td>True</td>\n",
       "      <td>44</td>\n",
       "      <td>8</td>\n",
       "      <td>20</td>\n",
       "      <td>1</td>\n",
       "      <td>2</td>\n",
       "      <td>72</td>\n",
       "      <td>20</td>\n",
       "    </tr>\n",
       "  </tbody>\n",
       "</table>\n",
       "</div>"
      ],
      "text/plain": [
       "president  Bill Clinton  Donald Trump  George H.W. Bush  George W. Bush  \\\n",
       "american                                                                  \n",
       "False                 1            26                 0               0   \n",
       "True                 44             8                20               1   \n",
       "\n",
       "president  Jimmy Carter  Richard Nixon  Ronald Reagan  \n",
       "american                                               \n",
       "False                 0              0              0  \n",
       "True                  2             72             20  "
      ]
     },
     "execution_count": 53,
     "metadata": {},
     "output_type": "execute_result"
    }
   ],
   "source": [
    "dfn_american = pd.crosstab(df[\"american\"],df[\"president\"])\n",
    "dfn_american"
   ]
  },
  {
   "cell_type": "markdown",
   "metadata": {},
   "source": [
    "What we have learned from this is that non-americans being investigated is a fairly new phenomenon, in fact Bill Clinton was the first US Impeachment trial to cause the investigation of a non-american. But, Trump's impeachment investigation has led to 26 non-americans being ivnestigated, this accounts for 96.3% of total non-americans investigated. In fact, Trump's impeachment trial has investigated 3.25x more non-americans than americans. "
   ]
  },
  {
   "cell_type": "markdown",
   "metadata": {},
   "source": [
    "#### Do Americans tend to be pardoned more than non-Americans?"
   ]
  },
  {
   "cell_type": "markdown",
   "metadata": {},
   "source": [
    "Let's look at the number of people pardoned as a function of whether or not they are American. "
   ]
  },
  {
   "cell_type": "code",
   "execution_count": 54,
   "metadata": {},
   "outputs": [
    {
     "data": {
      "text/html": [
       "<div>\n",
       "<style scoped>\n",
       "    .dataframe tbody tr th:only-of-type {\n",
       "        vertical-align: middle;\n",
       "    }\n",
       "\n",
       "    .dataframe tbody tr th {\n",
       "        vertical-align: top;\n",
       "    }\n",
       "\n",
       "    .dataframe thead th {\n",
       "        text-align: right;\n",
       "    }\n",
       "</style>\n",
       "<table border=\"1\" class=\"dataframe\">\n",
       "  <thead>\n",
       "    <tr style=\"text-align: right;\">\n",
       "      <th>american</th>\n",
       "      <th>False</th>\n",
       "      <th>True</th>\n",
       "    </tr>\n",
       "    <tr>\n",
       "      <th>pardoned</th>\n",
       "      <th></th>\n",
       "      <th></th>\n",
       "    </tr>\n",
       "  </thead>\n",
       "  <tbody>\n",
       "    <tr>\n",
       "      <td>False</td>\n",
       "      <td>27</td>\n",
       "      <td>141</td>\n",
       "    </tr>\n",
       "    <tr>\n",
       "      <td>True</td>\n",
       "      <td>0</td>\n",
       "      <td>26</td>\n",
       "    </tr>\n",
       "  </tbody>\n",
       "</table>\n",
       "</div>"
      ],
      "text/plain": [
       "american  False  True \n",
       "pardoned              \n",
       "False        27    141\n",
       "True          0     26"
      ]
     },
     "execution_count": 54,
     "metadata": {},
     "output_type": "execute_result"
    }
   ],
   "source": [
    "dfp_american = pd.crosstab(df[\"pardoned\"],df[\"american\"])\n",
    "dfp_american"
   ]
  },
  {
   "cell_type": "markdown",
   "metadata": {},
   "source": [
    "Looking at the table, we see that no non-american has ever been pardoned by a president as a result of his impeachment investigation. "
   ]
  },
  {
   "cell_type": "markdown",
   "metadata": {},
   "source": [
    "#### What percentage of guilty-pleas are pardoned?"
   ]
  },
  {
   "cell_type": "markdown",
   "metadata": {},
   "source": [
    "Let's now look at the number of people pardoend as a function of what type of investigation they were."
   ]
  },
  {
   "cell_type": "code",
   "execution_count": 56,
   "metadata": {},
   "outputs": [
    {
     "data": {
      "text/html": [
       "<div>\n",
       "<style scoped>\n",
       "    .dataframe tbody tr th:only-of-type {\n",
       "        vertical-align: middle;\n",
       "    }\n",
       "\n",
       "    .dataframe tbody tr th {\n",
       "        vertical-align: top;\n",
       "    }\n",
       "\n",
       "    .dataframe thead th {\n",
       "        text-align: right;\n",
       "    }\n",
       "</style>\n",
       "<table border=\"1\" class=\"dataframe\">\n",
       "  <thead>\n",
       "    <tr style=\"text-align: right;\">\n",
       "      <th>type</th>\n",
       "      <th>conviction</th>\n",
       "      <th>guilty-plea</th>\n",
       "      <th>indictment</th>\n",
       "    </tr>\n",
       "    <tr>\n",
       "      <th>pardoned</th>\n",
       "      <th></th>\n",
       "      <th></th>\n",
       "      <th></th>\n",
       "    </tr>\n",
       "  </thead>\n",
       "  <tbody>\n",
       "    <tr>\n",
       "      <td>False</td>\n",
       "      <td>32</td>\n",
       "      <td>69</td>\n",
       "      <td>54</td>\n",
       "    </tr>\n",
       "    <tr>\n",
       "      <td>True</td>\n",
       "      <td>7</td>\n",
       "      <td>17</td>\n",
       "      <td>2</td>\n",
       "    </tr>\n",
       "  </tbody>\n",
       "</table>\n",
       "</div>"
      ],
      "text/plain": [
       "type      conviction  guilty-plea  indictment\n",
       "pardoned                                     \n",
       "False             32           69          54\n",
       "True               7           17           2"
      ]
     },
     "execution_count": 56,
     "metadata": {},
     "output_type": "execute_result"
    }
   ],
   "source": [
    "dfp_type = pd.crosstab(df[\"pardoned\"],df[\"type\"])\n",
    "dfp_type"
   ]
  },
  {
   "cell_type": "markdown",
   "metadata": {},
   "source": [
    "From this table we can find that most cases result in a guilty-plea, but more importantly that 24.6% of people that plead guilty were pardoned, in contrast 21.9% of those convicted were pardoned and only 3.7% of those indicted were pardoned. "
   ]
  },
  {
   "cell_type": "markdown",
   "metadata": {},
   "source": [
    "## Conclusion"
   ]
  },
  {
   "cell_type": "markdown",
   "metadata": {},
   "source": [
    "My dataset explored impeachment investigations throughout the political history of the United States, starting with perhaps the most famous impeachment--the impeachment of Richard Nixon. Ultimately what we have found is that for a while, impeachment investigations may have been considered a thing of the past. The United States experienced many impeachment investigations from the 1970s till 2000, but then after the early 2000s the US did not experience another impeachment investigation till 2019. This is well shown by a graph of investigations over time:"
   ]
  },
  {
   "cell_type": "code",
   "execution_count": 57,
   "metadata": {},
   "outputs": [
    {
     "data": {
      "text/plain": [
       "<seaborn.axisgrid.FacetGrid at 0x1a1bf85bd0>"
      ]
     },
     "execution_count": 57,
     "metadata": {},
     "output_type": "execute_result"
    },
    {
     "data": {
      "image/png": "[encoded data removed]",
      "text/plain": [
       "<Figure size 487.85x360 with 1 Axes>"
      ]
     },
     "metadata": {},
     "output_type": "display_data"
    }
   ],
   "source": [
    "sns.relplot(x=\"year\",y=\"investigation\",hue=\"investigation-days\",data=df,kind=\"scatter\")"
   ]
  },
  {
   "cell_type": "markdown",
   "metadata": {},
   "source": [
    "Given the relevancy of the most recent impeachment investigation into President Trump in 2019, I find it important to bring up the differences between this investigation and previous investigations. The impeachment investigation of Clinton in the late 1990s was the first American impeachment investigation when a non-american was indicted--and it was only one non-american. In 2019, Trump's impeachment investigation has led to more non-americans being indicted than americans, with 76.4% of total indictments in Trump's investigations being of non-americans. This seems to mean that Trump's alleged crimes were of an international scale or at least were with non-americans. Given the recent nature of all non-american indictments, it is safe to conclude that impeachable offenses on an international scale are fairly new to American politics. "
   ]
  },
  {
   "cell_type": "markdown",
   "metadata": {},
   "source": [
    "After looking at what leads people to be indicted and the trends in indictments, it is only reasonable to look at what happens post-indictment. From our data we found that the most common result of an indictment is a guilty-plea with 86 indictments ending in guilty-pleas. It seems that the president being investigated tends to look favorably upon those pleading guilty with 24.6% of those pleading guilty being pardoned, more than any other group. When it comes to pardons, no-one has used them more than Bill Clinton who pardoned 40.6% of those who were convicted as a result of his investigation--equal to 13 people. So far, Trump has yet to pardon anyone indicted as a result of his investigation, but there is still time. "
   ]
  },
  {
   "cell_type": "markdown",
   "metadata": {},
   "source": [
    "My analysis showed several trends in the data including a strong positive correlation between the length of investigations and the length of conviction proceedings. While there is an argument for a causation relationship between length of investigations and length of conviction proceedings, where longer investigations generally produce more evidence which extend the length of conviction proceedings; there is also a case for correlation where the investigation and conviction proceedings were simply longer when the case was complicated. "
   ]
  },
  {
   "cell_type": "markdown",
   "metadata": {},
   "source": [
    "In the future, I would want to compare this dataset with data on presidency's approval rates to see how much of an impact indictments, investigations, and pardons have on a presidents approval rate. "
   ]
  },
  {
   "cell_type": "markdown",
   "metadata": {},
   "source": [
    "## Acknowledgements"
   ]
  },
  {
   "cell_type": "markdown",
   "metadata": {},
   "source": [
    "Many thanks to Navya Mangipudi and Ms. Sconyers for their much appreciated help. Additional thanks to Ms. Sconyers for providing me with code and data. Additional thanks to Scott for providing me with much needed emotional encouragement. Additional thanks to Geeks2Geeks for help with the \".sum()\" function. Additional thanks to StackOverflow for help with the crosstab function and the countplot. Both Geeks2Geeks' and StackOverlow's help were crucial to my analysis. Additional thanks to the students in my big data class for help with the useful visualizations table. "
   ]
  },
  {
   "cell_type": "code",
   "execution_count": null,
   "metadata": {},
   "outputs": [],
   "source": []
  }
 ],
 "metadata": {
  "kernelspec": {
   "display_name": "Python 3",
   "language": "python",
   "name": "python3"
  },
  "language_info": {
   "codemirror_mode": {
    "name": "ipython",
    "version": 3
   },
   "file_extension": ".py",
   "mimetype": "text/x-python",
   "name": "python",
   "nbconvert_exporter": "python",
   "pygments_lexer": "ipython3",
   "version": "3.7.4"
  }
 },
 "nbformat": 4,
 "nbformat_minor": 2
}
